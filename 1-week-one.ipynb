{
 "cells": [
  {
   "cell_type": "code",
   "execution_count": 1,
   "id": "1c31759c",
   "metadata": {},
   "outputs": [],
   "source": [
    "import pandas as pd"
   ]
  },
  {
   "cell_type": "code",
   "execution_count": 2,
   "id": "2c40521c",
   "metadata": {},
   "outputs": [],
   "source": [
    "from sklearn.feature_extraction import DictVectorizer\n",
    "from sklearn.linear_model import LinearRegression\n",
    "from sklearn.metrics import mean_squared_error"
   ]
  },
  {
   "cell_type": "markdown",
   "id": "f8a2991e",
   "metadata": {},
   "source": [
    "# Q1. Downloading the data"
   ]
  },
  {
   "cell_type": "code",
   "execution_count": 3,
   "id": "8d25a62e",
   "metadata": {},
   "outputs": [],
   "source": [
    "df_january = pd.read_parquet('data/fhv_tripdata_2021-01.parquet')\n",
    "df_february = pd.read_parquet('data/fhv_tripdata_2021-02.parquet')"
   ]
  },
  {
   "cell_type": "code",
   "execution_count": 4,
   "id": "48d3ef44",
   "metadata": {},
   "outputs": [
    {
     "name": "stdout",
     "output_type": "stream",
     "text": [
      "Number of elements in January: 1154112\n",
      "Number of elements in February: 1037692\n"
     ]
    }
   ],
   "source": [
    "print(\"Number of elements in January:\", df_january.shape[0])\n",
    "print(\"Number of elements in February:\", df_february.shape[0])"
   ]
  },
  {
   "cell_type": "markdown",
   "id": "e2f4a5d2",
   "metadata": {},
   "source": [
    "# Q2. Computing duration"
   ]
  },
  {
   "cell_type": "code",
   "execution_count": 5,
   "id": "028a7079",
   "metadata": {},
   "outputs": [],
   "source": [
    "def get_duration(dropoff, pickup):\n",
    "    return (dropoff - pickup).apply(lambda t: t.total_seconds()/60)"
   ]
  },
  {
   "cell_type": "code",
   "execution_count": 6,
   "id": "a71ac611",
   "metadata": {},
   "outputs": [],
   "source": [
    "def filter_by_duration(duration):\n",
    "    return (duration >= 1) & (duration <= 60)"
   ]
  },
  {
   "cell_type": "code",
   "execution_count": 7,
   "id": "53ea7825",
   "metadata": {},
   "outputs": [],
   "source": [
    "df_january['duration'] = get_duration(df_january['dropOff_datetime'], df_january['pickup_datetime'])\n",
    "df_february['duration'] = get_duration(df_february['dropOff_datetime'], df_february['pickup_datetime'])"
   ]
  },
  {
   "cell_type": "code",
   "execution_count": 8,
   "id": "becc55d2",
   "metadata": {},
   "outputs": [
    {
     "name": "stdout",
     "output_type": "stream",
     "text": [
      "Mean duration in January: 19.167224093791006\n",
      "Mean duration in February: 20.706986225199763\n"
     ]
    }
   ],
   "source": [
    "print(\"Mean duration in January:\", df_january['duration'].mean())\n",
    "print(\"Mean duration in February:\", df_february['duration'].mean())"
   ]
  },
  {
   "cell_type": "code",
   "execution_count": 9,
   "id": "2b8c0fd4",
   "metadata": {},
   "outputs": [],
   "source": [
    "df_january_filtered = df_january[filter_by_duration(df_january['duration'])].copy()\n",
    "df_february_filtered = df_february[filter_by_duration(df_february['duration'])].copy()"
   ]
  },
  {
   "cell_type": "code",
   "execution_count": 10,
   "id": "650c2f9e",
   "metadata": {},
   "outputs": [
    {
     "name": "stdout",
     "output_type": "stream",
     "text": [
      "Number of elements in January after filtering: 1109826\n",
      "Number of elements in February after filtering: 990113\n"
     ]
    }
   ],
   "source": [
    "print(\"Number of elements in January after filtering:\", df_january_filtered.shape[0])\n",
    "print(\"Number of elements in February after filtering:\", df_february_filtered.shape[0])"
   ]
  },
  {
   "cell_type": "markdown",
   "id": "ddcf1914",
   "metadata": {},
   "source": [
    "# Q3. Missing values"
   ]
  },
  {
   "cell_type": "code",
   "execution_count": 11,
   "id": "0ae01201",
   "metadata": {},
   "outputs": [],
   "source": [
    "df_january_filtered.loc[:, 'PUlocationID'].fillna(-1, inplace=True)\n",
    "df_january_filtered.loc[:, 'DOlocationID'].fillna(-1, inplace=True)"
   ]
  },
  {
   "cell_type": "code",
   "execution_count": 12,
   "id": "0f1881ab",
   "metadata": {},
   "outputs": [
    {
     "name": "stdout",
     "output_type": "stream",
     "text": [
      "Percentage of Nones in pickup location ID (January): 0.8352732770722617\n",
      "Percentage of Nones in dropoff location ID (January): 0.13327044059158824\n"
     ]
    }
   ],
   "source": [
    "perc_pickup_january = (df_january_filtered['PUlocationID'] == -1).sum()/df_january_filtered.shape[0]\n",
    "perc_dropoff_january = (df_january_filtered['DOlocationID'] == -1).sum()/df_january_filtered.shape[0]\n",
    "\n",
    "print(\"Percentage of Nones in pickup location ID (January):\", perc_pickup_january)\n",
    "print(\"Percentage of Nones in dropoff location ID (January):\", perc_dropoff_january)"
   ]
  },
  {
   "cell_type": "code",
   "execution_count": 13,
   "id": "692c84c3",
   "metadata": {},
   "outputs": [],
   "source": [
    "df_february_filtered.loc[:, 'PUlocationID'].fillna(-1, inplace=True)\n",
    "df_february_filtered.loc[:, 'DOlocationID'].fillna(-1, inplace=True)"
   ]
  },
  {
   "cell_type": "code",
   "execution_count": 14,
   "id": "bb7edaeb",
   "metadata": {},
   "outputs": [
    {
     "name": "stdout",
     "output_type": "stream",
     "text": [
      "Percentage of Nones in pickup location ID (February): 0.8571354986754037\n",
      "Percentage of Nones in dropoff location ID (February): 0.13610567682678643\n"
     ]
    }
   ],
   "source": [
    "perc_pickup_february = (df_february_filtered['PUlocationID'] == -1).sum()/df_february_filtered.shape[0]\n",
    "perc_dropoff_february = (df_february_filtered['DOlocationID'] == -1).sum()/df_february_filtered.shape[0]\n",
    "\n",
    "print(\"Percentage of Nones in pickup location ID (February):\", perc_pickup_february)\n",
    "print(\"Percentage of Nones in dropoff location ID (February):\", perc_dropoff_february)"
   ]
  },
  {
   "cell_type": "markdown",
   "id": "2ac2d8d3",
   "metadata": {},
   "source": [
    "# Q4. One-hot encoding"
   ]
  },
  {
   "cell_type": "code",
   "execution_count": 15,
   "id": "ff5c02d1",
   "metadata": {},
   "outputs": [],
   "source": [
    "dict_january = df_january_filtered[['PUlocationID', 'DOlocationID']].astype(str).to_dict(orient='records')\n",
    "dict_february = df_february_filtered[['PUlocationID', 'DOlocationID']].astype(str).to_dict(orient='records')"
   ]
  },
  {
   "cell_type": "code",
   "execution_count": 16,
   "id": "086a395b",
   "metadata": {},
   "outputs": [],
   "source": [
    "dv = DictVectorizer().fit(dict_january)"
   ]
  },
  {
   "cell_type": "code",
   "execution_count": 17,
   "id": "27922b64",
   "metadata": {},
   "outputs": [],
   "source": [
    "X_train = dv.transform(dict_january)\n",
    "X_test = dv.transform(dict_february)"
   ]
  },
  {
   "cell_type": "code",
   "execution_count": 18,
   "id": "4e504097",
   "metadata": {},
   "outputs": [],
   "source": [
    "y_train = df_january_filtered['duration'].values\n",
    "y_test = df_february_filtered['duration'].values"
   ]
  },
  {
   "cell_type": "code",
   "execution_count": 19,
   "id": "99dca779",
   "metadata": {},
   "outputs": [
    {
     "name": "stdout",
     "output_type": "stream",
     "text": [
      "The dimensionality of the data is:  525\n"
     ]
    }
   ],
   "source": [
    "print(\"The dimensionality of the data is: \", X_train.shape[1])"
   ]
  },
  {
   "cell_type": "markdown",
   "id": "a1d29e1a",
   "metadata": {},
   "source": [
    "# Q5. Training a model"
   ]
  },
  {
   "cell_type": "code",
   "execution_count": 20,
   "id": "2ccd1b93",
   "metadata": {},
   "outputs": [
    {
     "data": {
      "text/html": [
       "<style>#sk-container-id-1 {color: black;background-color: white;}#sk-container-id-1 pre{padding: 0;}#sk-container-id-1 div.sk-toggleable {background-color: white;}#sk-container-id-1 label.sk-toggleable__label {cursor: pointer;display: block;width: 100%;margin-bottom: 0;padding: 0.3em;box-sizing: border-box;text-align: center;}#sk-container-id-1 label.sk-toggleable__label-arrow:before {content: \"▸\";float: left;margin-right: 0.25em;color: #696969;}#sk-container-id-1 label.sk-toggleable__label-arrow:hover:before {color: black;}#sk-container-id-1 div.sk-estimator:hover label.sk-toggleable__label-arrow:before {color: black;}#sk-container-id-1 div.sk-toggleable__content {max-height: 0;max-width: 0;overflow: hidden;text-align: left;background-color: #f0f8ff;}#sk-container-id-1 div.sk-toggleable__content pre {margin: 0.2em;color: black;border-radius: 0.25em;background-color: #f0f8ff;}#sk-container-id-1 input.sk-toggleable__control:checked~div.sk-toggleable__content {max-height: 200px;max-width: 100%;overflow: auto;}#sk-container-id-1 input.sk-toggleable__control:checked~label.sk-toggleable__label-arrow:before {content: \"▾\";}#sk-container-id-1 div.sk-estimator input.sk-toggleable__control:checked~label.sk-toggleable__label {background-color: #d4ebff;}#sk-container-id-1 div.sk-label input.sk-toggleable__control:checked~label.sk-toggleable__label {background-color: #d4ebff;}#sk-container-id-1 input.sk-hidden--visually {border: 0;clip: rect(1px 1px 1px 1px);clip: rect(1px, 1px, 1px, 1px);height: 1px;margin: -1px;overflow: hidden;padding: 0;position: absolute;width: 1px;}#sk-container-id-1 div.sk-estimator {font-family: monospace;background-color: #f0f8ff;border: 1px dotted black;border-radius: 0.25em;box-sizing: border-box;margin-bottom: 0.5em;}#sk-container-id-1 div.sk-estimator:hover {background-color: #d4ebff;}#sk-container-id-1 div.sk-parallel-item::after {content: \"\";width: 100%;border-bottom: 1px solid gray;flex-grow: 1;}#sk-container-id-1 div.sk-label:hover label.sk-toggleable__label {background-color: #d4ebff;}#sk-container-id-1 div.sk-serial::before {content: \"\";position: absolute;border-left: 1px solid gray;box-sizing: border-box;top: 0;bottom: 0;left: 50%;z-index: 0;}#sk-container-id-1 div.sk-serial {display: flex;flex-direction: column;align-items: center;background-color: white;padding-right: 0.2em;padding-left: 0.2em;position: relative;}#sk-container-id-1 div.sk-item {position: relative;z-index: 1;}#sk-container-id-1 div.sk-parallel {display: flex;align-items: stretch;justify-content: center;background-color: white;position: relative;}#sk-container-id-1 div.sk-item::before, #sk-container-id-1 div.sk-parallel-item::before {content: \"\";position: absolute;border-left: 1px solid gray;box-sizing: border-box;top: 0;bottom: 0;left: 50%;z-index: -1;}#sk-container-id-1 div.sk-parallel-item {display: flex;flex-direction: column;z-index: 1;position: relative;background-color: white;}#sk-container-id-1 div.sk-parallel-item:first-child::after {align-self: flex-end;width: 50%;}#sk-container-id-1 div.sk-parallel-item:last-child::after {align-self: flex-start;width: 50%;}#sk-container-id-1 div.sk-parallel-item:only-child::after {width: 0;}#sk-container-id-1 div.sk-dashed-wrapped {border: 1px dashed gray;margin: 0 0.4em 0.5em 0.4em;box-sizing: border-box;padding-bottom: 0.4em;background-color: white;}#sk-container-id-1 div.sk-label label {font-family: monospace;font-weight: bold;display: inline-block;line-height: 1.2em;}#sk-container-id-1 div.sk-label-container {text-align: center;}#sk-container-id-1 div.sk-container {/* jupyter's `normalize.less` sets `[hidden] { display: none; }` but bootstrap.min.css set `[hidden] { display: none !important; }` so we also need the `!important` here to be able to override the default hidden behavior on the sphinx rendered scikit-learn.org. See: https://github.com/scikit-learn/scikit-learn/issues/21755 */display: inline-block !important;position: relative;}#sk-container-id-1 div.sk-text-repr-fallback {display: none;}</style><div id=\"sk-container-id-1\" class=\"sk-top-container\"><div class=\"sk-text-repr-fallback\"><pre>LinearRegression()</pre><b>In a Jupyter environment, please rerun this cell to show the HTML representation or trust the notebook. <br />On GitHub, the HTML representation is unable to render, please try loading this page with nbviewer.org.</b></div><div class=\"sk-container\" hidden><div class=\"sk-item\"><div class=\"sk-estimator sk-toggleable\"><input class=\"sk-toggleable__control sk-hidden--visually\" id=\"sk-estimator-id-1\" type=\"checkbox\" checked><label for=\"sk-estimator-id-1\" class=\"sk-toggleable__label sk-toggleable__label-arrow\">LinearRegression</label><div class=\"sk-toggleable__content\"><pre>LinearRegression()</pre></div></div></div></div></div>"
      ],
      "text/plain": [
       "LinearRegression()"
      ]
     },
     "execution_count": 20,
     "metadata": {},
     "output_type": "execute_result"
    }
   ],
   "source": [
    "lr = LinearRegression()\n",
    "lr.fit(X_train, y_train)"
   ]
  },
  {
   "cell_type": "code",
   "execution_count": 21,
   "id": "999a02ea",
   "metadata": {},
   "outputs": [],
   "source": [
    "y_pred = lr.predict(X_train)"
   ]
  },
  {
   "cell_type": "code",
   "execution_count": 22,
   "id": "2bc9bd41",
   "metadata": {},
   "outputs": [],
   "source": [
    "rmse = mean_squared_error(y_train, y_pred, squared=False)"
   ]
  },
  {
   "cell_type": "code",
   "execution_count": 23,
   "id": "81efc132",
   "metadata": {},
   "outputs": [
    {
     "name": "stdout",
     "output_type": "stream",
     "text": [
      "The RMSE in the training set is:  10.528519388232237\n"
     ]
    }
   ],
   "source": [
    "print(\"The RMSE in the training set is: \", rmse)"
   ]
  },
  {
   "cell_type": "markdown",
   "id": "10050cc6",
   "metadata": {},
   "source": [
    "# Q6. Evaluating the model"
   ]
  },
  {
   "cell_type": "code",
   "execution_count": 24,
   "id": "b8545e0b",
   "metadata": {},
   "outputs": [],
   "source": [
    "y_pred_test = lr.predict(X_test)"
   ]
  },
  {
   "cell_type": "code",
   "execution_count": 25,
   "id": "1686fac5",
   "metadata": {},
   "outputs": [],
   "source": [
    "rmse_test = mean_squared_error(y_test, y_pred_test, squared=False)"
   ]
  },
  {
   "cell_type": "code",
   "execution_count": 26,
   "id": "b57e3867",
   "metadata": {},
   "outputs": [
    {
     "name": "stdout",
     "output_type": "stream",
     "text": [
      "The RMSE in the test set is:  11.014286813221993\n"
     ]
    }
   ],
   "source": [
    "print(\"The RMSE in the test set is: \", rmse_test)"
   ]
  }
 ],
 "metadata": {
  "kernelspec": {
   "display_name": "mlops-zoomcamp",
   "language": "python",
   "name": "mlops-zoomcamp"
  },
  "language_info": {
   "codemirror_mode": {
    "name": "ipython",
    "version": 3
   },
   "file_extension": ".py",
   "mimetype": "text/x-python",
   "name": "python",
   "nbconvert_exporter": "python",
   "pygments_lexer": "ipython3",
   "version": "3.8.9"
  }
 },
 "nbformat": 4,
 "nbformat_minor": 5
}
